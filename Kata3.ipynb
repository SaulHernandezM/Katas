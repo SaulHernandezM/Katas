{
 "cells": [
  {
   "cell_type": "markdown",
   "metadata": {},
   "source": [
    "Declatraciones con if"
   ]
  },
  {
   "cell_type": "code",
   "execution_count": 10,
   "metadata": {},
   "outputs": [],
   "source": [
    "# Tip de practica 1: Intenta ejecutarlo en un notebook.\n",
    "a = 97\n",
    "b = 55\n",
    "# test expression / expresion de prueba\n",
    "if a < b:\n",
    "    # statement to be run / instruccion a ejecutar\n",
    "    print(b)\n",
    "\n",
    "#Sintaxis\n",
    "    #if expresion_prueba:\n",
    "    # intrucción(es) a ejecutar"
   ]
  },
  {
   "cell_type": "code",
   "execution_count": 6,
   "metadata": {},
   "outputs": [
    {
     "name": "stdout",
     "output_type": "stream",
     "text": [
      "93\n"
     ]
    }
   ],
   "source": [
    "# Aplica el tip de práctica 1.\n",
    "a = 93\n",
    "b = 27\n",
    "if a >= b:\n",
    "    print(a)\n",
    "\n",
    "#Como se lee\n",
    "#A la letra 'a' le asigno el valor de 93.\n",
    "#A la letra 'b' le asigno el valor de 27.\n",
    "#SI a(93) es mayor o igual a b(27) entonces:\n",
    "#Muestra (print) el valor de a(93)"
   ]
  },
  {
   "cell_type": "code",
   "execution_count": 9,
   "metadata": {},
   "outputs": [
    {
     "name": "stdout",
     "output_type": "stream",
     "text": [
      "44\n"
     ]
    }
   ],
   "source": [
    "a = 24\n",
    "b = 44\n",
    "if a <= 0:\n",
    "    print(a)\n",
    "print(b)"
   ]
  },
  {
   "cell_type": "markdown",
   "metadata": {},
   "source": [
    "Declaraciones else "
   ]
  },
  {
   "cell_type": "code",
   "execution_count": null,
   "metadata": {},
   "outputs": [],
   "source": [
    "a = 93\n",
    "b = 27\n",
    "if a >= b:\n",
    "    print(a)"
   ]
  },
  {
   "cell_type": "code",
   "execution_count": null,
   "metadata": {},
   "outputs": [],
   "source": [
    "a = 93\n",
    "b = 27\n",
    "if a >= b:\n",
    "    print(a)\n",
    "else:\n",
    "    print(b)\n",
    "\n",
    "    #sintaxis\n",
    "#if expresion_prueba:\n",
    "    # instrucción(es) a ejecutar\n",
    "#else:\n",
    "    # instrucción(es) a ejecutar"
   ]
  },
  {
   "cell_type": "markdown",
   "metadata": {},
   "source": [
    "Declaraciones con elif"
   ]
  },
  {
   "cell_type": "code",
   "execution_count": null,
   "metadata": {},
   "outputs": [],
   "source": [
    "a = 93\n",
    "b = 27\n",
    "if a >= b:\n",
    "    print(\"a es mayor o igual que b\")\n",
    "elif a == b:\n",
    "    print(\"a es igual que b\")\n",
    "\n",
    "    #sintaxis\n",
    "#if expresion_prueba:\n",
    "    # instrucción(es) a ejecutar\n",
    "#elif expresion_prueba:\n",
    "    # instrucción(es) a ejecutar"
   ]
  },
  {
   "cell_type": "markdown",
   "metadata": {},
   "source": [
    "Combinar declaraciones if , elif, y else"
   ]
  },
  {
   "cell_type": "code",
   "execution_count": null,
   "metadata": {},
   "outputs": [],
   "source": [
    "a = 93\n",
    "b = 27\n",
    "if a > b:\n",
    "    print(\"a es mayor que b\")\n",
    "elif a < b:\n",
    "    print(\"a es menor que b\")\n",
    "else: \n",
    "    print (\"a es igual que b\")\n",
    "\n",
    "    #sintaxis \n",
    "#if expresion_prueba:\n",
    "    # instrucción(es) a ejecutar\n",
    "#elif expresion_prueba:\n",
    "    # instrucción(es) a ejecutar\n",
    "#elif expresion_prueba:\n",
    "    # instrucción(es) a ejecutar\n",
    "#else:\n",
    "    # instrucción(es) a ejecutar"
   ]
  },
  {
   "cell_type": "code",
   "execution_count": null,
   "metadata": {},
   "outputs": [],
   "source": [
    "a = 16\n",
    "b = 25\n",
    "c = 27\n",
    "if a > b:\n",
    "    if b > c:\n",
    "        print (\"a es mayor que b y b es mayor que c\")\n",
    "    else: \n",
    "        print (\"a es mayor que b y menor que c\")\n",
    "elif a == b:\n",
    "    print (\"a es igual que b\")\n",
    "else:\n",
    "    print (\"a es menor que b\")\n",
    "\n",
    "    #sintaxis\n",
    "    #if expresion_prueba:\n",
    "    # instrucción(es) a ejecutar\n",
    "    #if expresion_prueba:\n",
    "        # instrucción(es) a ejecutar\n",
    "    #else: \n",
    "        # instrucción(es) a ejecutar\n",
    "#elif expresion_prueba:\n",
    "    # instrucción(es) a ejecutar\n",
    "    #if expresion_prueba:\n",
    "        # instrucción(es) a ejecutar\n",
    "    #else: \n",
    "        # instrucción(es) a ejecutar\n",
    "#else:\n",
    "    # instrucción(es) a ejecutar"
   ]
  },
  {
   "cell_type": "markdown",
   "metadata": {},
   "source": [
    "Operador or"
   ]
  },
  {
   "cell_type": "code",
   "execution_count": null,
   "metadata": {},
   "outputs": [],
   "source": [
    "a = 23\n",
    "b = 34\n",
    "if a == 34 or b == 34:\n",
    "    print(a + b)\n",
    "\n",
    "    #sintaxis, subexpresión1 or subexpresión2"
   ]
  },
  {
   "cell_type": "markdown",
   "metadata": {},
   "source": [
    "Operador and"
   ]
  },
  {
   "cell_type": "code",
   "execution_count": null,
   "metadata": {},
   "outputs": [],
   "source": [
    "a = 23\n",
    "b = 34\n",
    "if a == 34 and b == 34:\n",
    "    print (a + b)\n",
    "\n",
    "    #sintaxis subexpresión1 and subexpresión2"
   ]
  },
  {
   "cell_type": "markdown",
   "metadata": {},
   "source": [
    "Ejercicio 1\n"
   ]
  },
  {
   "cell_type": "code",
   "execution_count": 11,
   "metadata": {},
   "outputs": [
    {
     "name": "stdout",
     "output_type": "stream",
     "text": [
      "Cuidado se acerca un asteroide a mas de 25km/h\n"
     ]
    }
   ],
   "source": [
    "asteroide = 49\n",
    "if asteroide > 25:\n",
    "    print('Cuidado se acerca un asteroide a mas de 25km/s')\n",
    "else:\n",
    "    print('Ten buen dia')"
   ]
  },
  {
   "cell_type": "markdown",
   "metadata": {},
   "source": [
    "Ejercicio 2"
   ]
  },
  {
   "cell_type": "code",
   "execution_count": 12,
   "metadata": {},
   "outputs": [
    {
     "name": "stdout",
     "output_type": "stream",
     "text": [
      "Que buen dia\n"
     ]
    }
   ],
   "source": [
    "asteroide = 19\n",
    "if asteroide > 20:\n",
    "    print('Hay una luz en el cielo')\n",
    "elif asteroide == 20:\n",
    "    print('Hay una luz en el cielo')\n",
    "else:\n",
    "    print('Que buen dia hace')"
   ]
  },
  {
   "cell_type": "markdown",
   "metadata": {},
   "source": [
    "Ejercicio 3"
   ]
  },
  {
   "cell_type": "code",
   "execution_count": 13,
   "metadata": {},
   "outputs": [
    {
     "name": "stdout",
     "output_type": "stream",
     "text": [
      "Hay una luz en el cielo\n"
     ]
    }
   ],
   "source": [
    "velocidad_asteroide = 25\n",
    "tamano_asteroide = 40\n",
    "if velocidad_asteroide > 25 and tamano_asteroide > 25:\n",
    "    print('Un asteroide se hacerca a la tierra')\n",
    "elif velocidad_asteroide >= 20:\n",
    "    print('Hay una luz en el cielo')\n",
    "elif tamano_asteroide < 25:\n",
    "    print('Que buen dia hace')\n",
    "else:\n",
    "    print('Que buen dia hace')"
   ]
  }
 ],
 "metadata": {
  "interpreter": {
   "hash": "af6d80ce7337d043ac52fc68d5984cae833fe1558188028ff0980d131f18c316"
  },
  "kernelspec": {
   "display_name": "Python 3.10.2 64-bit",
   "language": "python",
   "name": "python3"
  },
  "language_info": {
   "codemirror_mode": {
    "name": "ipython",
    "version": 3
   },
   "file_extension": ".py",
   "mimetype": "text/x-python",
   "name": "python",
   "nbconvert_exporter": "python",
   "pygments_lexer": "ipython3",
   "version": "3.10.2"
  },
  "orig_nbformat": 4
 },
 "nbformat": 4,
 "nbformat_minor": 2
}
